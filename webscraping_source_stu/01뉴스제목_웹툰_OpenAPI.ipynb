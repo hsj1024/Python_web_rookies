{
 "cells": [
  {
   "cell_type": "markdown",
   "id": "eb0bfa44",
   "metadata": {},
   "source": [
    "## 1. 뉴스제목 가져오기\n",
    "* user-agent 요청헤더를 반드시 설정해야 한다."
   ]
  },
  {
   "cell_type": "code",
   "execution_count": 30,
   "id": "f0d27781",
   "metadata": {},
   "outputs": [
    {
     "name": "stdout",
     "output_type": "stream",
     "text": [
      "Name: requests\n",
      "Version: 2.32.2\n",
      "Summary: Python HTTP for Humans.\n",
      "Home-page: https://requests.readthedocs.io\n",
      "Author: Kenneth Reitz\n",
      "Author-email: me@kennethreitz.org\n",
      "License: Apache-2.0\n",
      "Location: /opt/anaconda3/lib/python3.12/site-packages\n",
      "Requires: certifi, charset-normalizer, idna, urllib3\n",
      "Required-by: aext-assistant-server, anaconda-catalogs, anaconda-client, anaconda-cloud-auth, anaconda-project, conda, conda-build, conda-repo-cli, conda_package_streaming, cookiecutter, datashader, intake, jupyterlab_server, panel, requests-file, requests-toolbelt, Sphinx, streamlit, tldextract\n"
     ]
    }
   ],
   "source": [
    "!pip show requests"
   ]
  },
  {
   "cell_type": "code",
   "execution_count": 31,
   "id": "f7798ea8",
   "metadata": {},
   "outputs": [
    {
     "name": "stdout",
     "output_type": "stream",
     "text": [
      "Name: beautifulsoup4\n",
      "Version: 4.12.3\n",
      "Summary: Screen-scraping library\n",
      "Home-page: \n",
      "Author: \n",
      "Author-email: Leonard Richardson <leonardr@segfault.org>\n",
      "License: MIT License\n",
      "Location: /opt/anaconda3/lib/python3.12/site-packages\n",
      "Requires: soupsieve\n",
      "Required-by: conda-build, nbconvert\n"
     ]
    }
   ],
   "source": [
    "!pip show beautifulsoup4"
   ]
  },
  {
   "cell_type": "code",
   "execution_count": 33,
   "id": "bf80a429",
   "metadata": {},
   "outputs": [],
   "source": [
    "import requests\n",
    "import bs4\n",
    "from bs4 import BeautifulSoup"
   ]
  },
  {
   "cell_type": "code",
   "execution_count": 34,
   "id": "9788d6ac",
   "metadata": {},
   "outputs": [
    {
     "name": "stdout",
     "output_type": "stream",
     "text": [
      "request ver 2.32.2\n",
      "beautifulsoup 4.12.3\n"
     ]
    }
   ],
   "source": [
    "print(f'request ver {requests.__version__}' )\n",
    "print('beautifulsoup {}'.format(bs4.__version__))"
   ]
  },
  {
   "cell_type": "markdown",
   "id": "ccb91def-cde3-4aeb-b0e5-2e7233500333",
   "metadata": {},
   "source": [
    "### 1. 뉴스 제목 추출하기"
   ]
  },
  {
   "cell_type": "code",
   "execution_count": 39,
   "id": "94c12fd6",
   "metadata": {},
   "outputs": [
    {
     "name": "stdout",
     "output_type": "stream",
     "text": [
      "https://news.naver.com/section/105\n",
      "<class 'requests.models.Response'>\n",
      "200\n",
      "True\n",
      "news 제목 = 엔씨소프트, 실적 개선 ‘안간힘’…신작·M&A·구조조정 ‘심혈’[컨콜 종합]\n",
      "news 링크 = https://n.news.naver.com/mnews/article/009/0005345719\n",
      "news 제목 = 유럽 경쟁국 중 한국 혁신점수 1위\n",
      "news 링크 = https://n.news.naver.com/mnews/article/366/0001010067\n",
      "news 제목 = 삼성 올림픽 체험관에 몰린 메달리스트…“갤럭시 AI로 언어장벽 넘어 소통”\n",
      "news 링크 = https://n.news.naver.com/mnews/article/016/0002345784\n",
      "news 제목 = 김태규 방통위원장 직무대행 \"탄핵의 희화화, 국민이 피해\"\n",
      "news 링크 = https://n.news.naver.com/mnews/article/055/0001178814\n",
      "news 제목 = “결제·광고 부문 성과” NHN, 2분기 영업익 285억원…분기 최대치 달성\n",
      "news 링크 = https://n.news.naver.com/mnews/article/016/0002345801\n",
      "news 제목 = 오픈AI, 논문·과제에 챗GPT 활용 감지 기술 개발했지만, 공개 안 해\n",
      "news 링크 = https://n.news.naver.com/mnews/article/030/0003229253\n",
      "news 제목 = “이건 너무 심했다” 쏟아지는 뭇매…초유의 이탈 사태\n",
      "news 링크 = https://n.news.naver.com/mnews/article/016/0002345717\n",
      "news 제목 = KT스카이라이프, AICC 오픈...“응답률·대기시간 개선”\n",
      "news 링크 = https://n.news.naver.com/mnews/article/119/0002859044\n",
      "news 제목 = 안세영·신유빈 등 팀 삼성 갤럭시 선수들 갤럭시 AI 체험\n",
      "news 링크 = https://n.news.naver.com/mnews/article/277/0005455529\n",
      "news 제목 = 온실가스 먹는 나무…메탄도 빨아들인다\n",
      "news 링크 = https://n.news.naver.com/mnews/article/028/0002701477\n",
      "news 제목 = 삼성전자, 업계 최소 두께 LPDDR5X D램 양산\n",
      "news 링크 = https://n.news.naver.com/mnews/article/293/0000057097\n",
      "news 제목 = 1년 전엔 잘 나갔는데…\"송강호도 비도 안 먹힌다\" 절규\n",
      "news 링크 = https://n.news.naver.com/mnews/article/015/0005018523\n",
      "news 제목 = 美 경기 침체 우려에 출렁이는 비트코인…7.32%↓\n",
      "news 링크 = https://n.news.naver.com/mnews/article/018/0005805896\n",
      "news 제목 = 판매처 다각화 나선 유바이오로직스, 수백억 사우디 시장 ‘대기 중’\n",
      "news 링크 = https://n.news.naver.com/mnews/article/018/0005805894\n",
      "news 제목 = 美 증시 대폭락…IT 빅7, 하루새 시총 1천조원 증발\n",
      "news 링크 = https://n.news.naver.com/mnews/article/092/0002341007\n",
      "news 제목 = 200억 증자한 지아이이노베이션, 추가 자금조달 가능성은\n",
      "news 링크 = https://n.news.naver.com/mnews/article/018/0005805876\n",
      "news 제목 = 머스크의 뉴럴링크, 척수 손상 환자 뇌에 두 번째 칩 이식 시술\n",
      "news 링크 = https://n.news.naver.com/mnews/article/028/0002701474\n",
      "news 제목 = 삼성전자, 0.65mm 두께 12나노급 LPDDR5X D램 양산\n",
      "news 링크 = https://n.news.naver.com/mnews/article/092/0002341000\n",
      "news 제목 = 한국 폭염, 중국 적설량으로 알수 있다?…UNIST, AI로 한국 폭염 예측\n",
      "news 링크 = https://n.news.naver.com/mnews/article/138/0002179250\n",
      "news 제목 = 디지털 기기·데이터센터·챗GPT 동시 이용 가능한 애플 ‘하이브리드 AI’\n",
      "news 링크 = https://n.news.naver.com/mnews/article/037/0000034808\n",
      "news 제목 = 삼성전자, 업계 최소 두께 LPDDR5X D램 양산…온 디바이스 AI 연산 최적화\n",
      "news 링크 = https://n.news.naver.com/mnews/article/629/0000310785\n",
      "news 제목 = 셔틀콕 여제도 들렀다…선수들 갤럭시 AI 통역 기능에 '감탄'\n",
      "news 링크 = https://n.news.naver.com/mnews/article/092/0002340994\n",
      "news 제목 = \"의료·산업에서 일상까지…웨어러블 로봇 年 1.1만대 생산 준비 끝\"\n",
      "news 링크 = https://n.news.naver.com/mnews/article/092/0002340987\n",
      "news 제목 = [과학을 읽다]AI가 앞당기는 '핵융시대'‥국제협력보다 각자도생\n",
      "news 링크 = https://n.news.naver.com/mnews/article/277/0005455438\n",
      "news 제목 = 주주 위한거 맞아?...두산·SK에 꽂힌 불편한 시선\n",
      "news 링크 = https://n.news.naver.com/mnews/article/092/0002340985\n",
      "news 제목 = [사이언스카페] 25만년 전 무덤 만든 인류, 넷플릭스 상상이었을까\n",
      "news 링크 = https://n.news.naver.com/mnews/article/366/0001010043\n",
      "news 제목 = 인텔, ASML 하이NA EUV 2호기도 도입… 올해 납품분 '독점'\n",
      "news 링크 = https://n.news.naver.com/mnews/article/011/0004376407\n",
      "news 제목 = \"삼성보다 50만 원 싸다\"…中 화웨이 '노바 플립' 발매\n",
      "news 링크 = https://n.news.naver.com/mnews/article/092/0002340980\n",
      "news 제목 = 구글 검색 시장 반독점 소송 패소… 기업 분할까지 거론\n",
      "news 링크 = https://n.news.naver.com/mnews/article/011/0004376385\n",
      "news 제목 = '구글 픽셀9 프로 폴드' 사진 유출(?)... 두꺼워 보이네\n",
      "news 링크 = https://n.news.naver.com/mnews/article/417/0001018996\n",
      "news 제목 = \"그린란드 빙상 온난화에 취약..과거 중심부까지 녹아\"\n",
      "news 링크 = https://n.news.naver.com/mnews/article/215/0001173995\n",
      "news 제목 = “불닭도 숏폼을 타고…한류가 동남아 틱톡 주도”\n",
      "news 링크 = https://n.news.naver.com/mnews/article/028/0002701462\n",
      "news 제목 = [인터뷰] “나이 들면 小食은 금물…다양하게 먹어야 노화 느려진다 ”\n",
      "news 링크 = https://n.news.naver.com/mnews/article/366/0001010022\n",
      "news 제목 = 美 버라이즌 5G 투자 확대에… 불황 속 삼성전자 네트워크 사업 구세주 될까\n",
      "news 링크 = https://n.news.naver.com/mnews/article/366/0001010020\n",
      "news 제목 = 김연아에 쯔위도 구형 아이폰 사진에 푹.. 삼성 고심 커진다 [1일IT템]\n",
      "news 링크 = https://n.news.naver.com/mnews/article/014/0005223669\n",
      "news 제목 = \"한국인 피부암 덜 걸린다\"는 옛말…자외선 차단 필수\n",
      "news 링크 = https://n.news.naver.com/mnews/article/092/0002340979\n",
      "news 제목 = 스마트폰 시장, 3년 만에 회복세…삼성-애플 격차 커진다\n",
      "news 링크 = https://n.news.naver.com/mnews/article/003/0012711539\n",
      "news 제목 = 美 법원, 구글 '검색 독점 기업' 낙인 찍었다...반독점 소송 패소\n",
      "news 링크 = https://n.news.naver.com/mnews/article/023/0003850781\n",
      "news 제목 = [우보세]방송통신위원회, '존재'의 위기\n",
      "news 링크 = https://n.news.naver.com/mnews/article/008/0005073303\n",
      "news 제목 = 적자 면한 엔씨, 영업익 4분의 1토막...\"리니지 3형제 부진\"\n",
      "news 링크 = https://n.news.naver.com/mnews/article/008/0005073301\n",
      "news 제목 = 한국 홀대론 사라질까… '아이폰16' 1차 출시국 기대감↑\n",
      "news 링크 = https://n.news.naver.com/mnews/article/417/0001018984\n",
      "news 제목 = 챗GPT는 물먹는 하마였다…기후해결사의 아이러니\n",
      "news 링크 = https://n.news.naver.com/mnews/article/025/0003378105\n",
      "news 제목 = 대학병원들 응급의학과 전문의 구인난…\"연봉 4억에도 안온다\"\n",
      "news 링크 = https://n.news.naver.com/mnews/article/421/0007712224\n",
      "news 제목 = 머스크, 오픈AI에 또 소송...”셰익스피어 소설처럼 배신당해”\n",
      "news 링크 = https://n.news.naver.com/mnews/article/023/0003850773\n"
     ]
    }
   ],
   "source": [
    "# IT/과학 뉴스\n",
    "req_param = {\n",
    "    'sid': 105\n",
    "}\n",
    "url = 'https://news.naver.com/section/{sid}'.format(**req_param)\n",
    "print(url)\n",
    "# 요청 헤더 설정 : 브라우저 정보\n",
    "req_header = {\n",
    "    'user-agent': 'Mozilla/5.0 (Windows NT 10.0; Win64; x64) AppleWebKit/537.36 (KHTML, like Gecko) Chrome/104.0.0.0 Safari/537.36'\n",
    "}\n",
    "# requests 모듈을 사용해서 http 통신 \n",
    "res = requests.get(url, headers=req_header)\n",
    "print(type(res))\n",
    "print(res.status_code) #200\n",
    "print(res.ok) #True\n",
    "if res.ok:\n",
    "    # 소스보기 텍스트 가져오기\n",
    "    html = res.text\n",
    "    # parsing을 하기 위해서 BeautifulSoup 객체생성\n",
    "    soup = BeautifulSoup(html, \"html.parser\")\n",
    "    #print(type(soup))\n",
    "    '''\n",
    "        <div class='sa_text'>\n",
    "            <a href='https://n.news.naver.com/mnews/article/092/0002340904' class='sa_text_title'>\n",
    "               <strong class=\"sa_text_strong\">엔씨소프트, 2분기 영업익 88억...실적 개선 박차</strong>\n",
    "    '''\n",
    "    #print(len(soup.select(\"div.sa_text a[href*='https://n.news.naver.com/mnews/article']\")))\n",
    "    #print(len(soup.select(\"div.sa_text a.sa_text_title\")))\n",
    "    atag_list = soup.select(\"div.sa_text a.sa_text_title\")\n",
    "    #print(type(atag_list))\n",
    "    for atag in atag_list:\n",
    "        # text속성: tag사이의 content, strip()공백제거\n",
    "        title = atag.text.strip()\n",
    "        # href 속성의 값을 추출하기\n",
    "        url = atag['href']\n",
    "        print(f'news 제목 = {title}')\n",
    "        print(f'news 링크 = {url}')\n",
    "else:\n",
    "    print(f'Error 발생 {res.status_code}')"
   ]
  },
  {
   "cell_type": "markdown",
   "id": "45640860-a449-4285-90d7-5f300292b461",
   "metadata": {},
   "source": [
    "### 1.1 뉴스제목 추출하는 함수 선언하기"
   ]
  },
  {
   "cell_type": "code",
   "execution_count": 42,
   "id": "9f2e4ef8",
   "metadata": {},
   "outputs": [],
   "source": [
    "import requests\n",
    "from bs4 import BeautifulSoup\n",
    "\n",
    "def print_news(sid, section):    \n",
    "    # 요청 Parameter\n",
    "    req_param = {\n",
    "        'sid': sid\n",
    "    }\n",
    "    url = 'https://news.naver.com/section/{sid}'.format(**req_param)\n",
    "    \n",
    "    print(f'======> {url} {section} 뉴스 <======')\n",
    "    \n",
    "    # 요청 헤더 설정 : 브라우저 정보\n",
    "    req_header = {\n",
    "        'user-agent': 'Mozilla/5.0 (Windows NT 10.0; Win64; x64) AppleWebKit/537.36 (KHTML, like Gecko) Chrome/104.0.0.0 Safari/537.36'\n",
    "    }\n",
    "    # requests 모듈을 사용해서 http 통신 \n",
    "    res = requests.get(url, headers=req_header)\n",
    "    if res.ok:\n",
    "        # 소스보기 텍스트 가져오기\n",
    "        html = res.text\n",
    "        # parsing을 하기 위해서 BeautifulSoup 객체생성\n",
    "        soup = BeautifulSoup(html, \"html.parser\")\n",
    "        atag_list = soup.select(\"div.sa_text a.sa_text_title\")\n",
    "        for atag in atag_list:\n",
    "            # text속성: tag사이의 content, strip()공백제거\n",
    "            title = atag.text.strip()\n",
    "            # href 속성의 값을 추출하기\n",
    "            url = atag['href']\n",
    "            print(f'news 제목 = {title}')\n",
    "            print(f'news 링크 = {url}')\n",
    "    else:\n",
    "        print(f'Error 발생 {res.status_code}')   \n",
    "    "
   ]
  },
  {
   "cell_type": "code",
   "execution_count": 44,
   "id": "858952c6",
   "metadata": {},
   "outputs": [
    {
     "name": "stdout",
     "output_type": "stream",
     "text": [
      "======> https://news.naver.com/section/103 세계 뉴스 <======\n",
      "news 제목 = 찜통더위 속 전국 곳곳 강한 소나기…시간당 50㎜ 안팎[날씨클릭]\n",
      "news 링크 = https://n.news.naver.com/mnews/article/422/0000674857\n",
      "news 제목 = “내일 출근길도 우산 챙기세요”…날씨도 여전히 ‘후끈’\n",
      "news 링크 = https://n.news.naver.com/mnews/article/009/0005345864\n",
      "news 제목 = “얼굴에 ‘이상한 점’, 혹시 피부암?” 국내 환자수 20년새 7배 늘었다\n",
      "news 링크 = https://n.news.naver.com/mnews/article/081/0003470089\n",
      "news 제목 = 폭염 속 '호우주의보급' 소나기…시간당 30~50㎜ 쏟아질 수도\n",
      "news 링크 = https://n.news.naver.com/mnews/article/001/0014857011\n",
      "news 제목 = '메르세데스-AMG GT 쿠페' 한국타이어 신는다…첫 파트너십\n",
      "news 링크 = https://n.news.naver.com/mnews/article/119/0002859047\n",
      "news 제목 = 데뷔 50주년 '허영만 이름 석 자' 전남도립미술관 특별전\n",
      "news 링크 = https://n.news.naver.com/mnews/article/016/0002345766\n",
      "news 제목 = [날씨] 찜통더위 이어져‥기습적인 소나기 계속\n",
      "news 링크 = https://n.news.naver.com/mnews/article/214/0001366087\n",
      "news 제목 = [뉴스초점] 기록적 폭염에 최장 열대야…'높은 습도'가 원인\n",
      "news 링크 = https://n.news.naver.com/mnews/article/422/0000674893\n",
      "news 제목 = [아미랑] ​암 재발 막는 영양소, 오메가3 ‘이렇게’ 드세요\n",
      "news 링크 = https://n.news.naver.com/mnews/article/346/0000078458\n",
      "news 제목 = 비싸서 못 산 쌈 야채를 길에서 만날 줄이야\n",
      "news 링크 = https://n.news.naver.com/mnews/article/047/0002442073\n",
      "news 제목 = 경기 양평 간밤 시간당 86㎜ 폭우…정전·침수 등 피해 잇따라\n",
      "news 링크 = https://n.news.naver.com/mnews/article/001/0014857034\n",
      "news 제목 = 폭염 속 '호우주의보급' 소나기…시간당 30~50㎜ 쏟아질 수도\n",
      "news 링크 = https://n.news.naver.com/mnews/article/001/0014857011\n",
      "news 제목 = [날씨] 열대야·폭염 기승…곳곳 강한 소나기\n",
      "news 링크 = https://n.news.naver.com/mnews/article/422/0000674885\n",
      "news 제목 = 유명 갤러리 줄폐업에 '비명'…미술시장까지 덮친 'R의 공포'\n",
      "news 링크 = https://n.news.naver.com/mnews/article/015/0005018494\n",
      "news 제목 = [맛있는 이야기] 조상들 사시사철 즐겼다지만…그래도 여름이 제철 ‘냉면’\n",
      "news 링크 = https://n.news.naver.com/mnews/article/662/0000049151\n",
      "news 제목 = 갈지 말고 채 썰어요...고소한 풍미 가득한 감자채전 [쿠킹]\n",
      "news 링크 = https://n.news.naver.com/mnews/article/025/0003378118\n",
      "news 제목 = [제주날씨] 오늘 늦은 오후까지 소나기!, 해안가 저지대 침수 피해 가능성!\n",
      "news 링크 = https://n.news.naver.com/mnews/article/661/0000043204\n",
      "news 제목 = 극장가 여름대작이 정말로 사라졌다\n",
      "news 링크 = https://n.news.naver.com/mnews/article/006/0000125340\n",
      "news 제목 = \"휴게소서 국밥 한그릇 먹으려다…\" 또 오른 가격에 '깜짝'\n",
      "news 링크 = https://n.news.naver.com/mnews/article/015/0005018489\n",
      "news 제목 = [출근길 날씨] 폭염·열대야 계속…곳곳에 강한 소나기\n",
      "news 링크 = https://n.news.naver.com/mnews/article/056/0011775648\n",
      "news 제목 = [날씨] 푹푹 찌는 찜통더위 계속…곳곳 국지적인 강한 소나기\n",
      "news 링크 = https://n.news.naver.com/mnews/article/422/0000674865\n",
      "news 제목 = [날씨] 당분간 열대야·무더위 계속‥곳곳에 소나기\n",
      "news 링크 = https://n.news.naver.com/mnews/article/214/0001366061\n",
      "news 제목 = 의원 한마디에 폐타이어 한꺼번에 제거…\"예산만 낭비\"\n",
      "news 링크 = https://n.news.naver.com/mnews/article/094/0000011976\n",
      "news 제목 = '300원 효과' 쏠쏠하네…'세대교체' 아이코스, 전담 영토 확대\n",
      "news 링크 = https://n.news.naver.com/mnews/article/277/0005455384\n",
      "news 제목 = [날씨클릭] 찜통더위 속 전국 곳곳 강한 소나기…시간당 50㎜ 안팎\n",
      "news 링크 = https://n.news.naver.com/mnews/article/422/0000674857\n",
      "news 제목 = 노년기 우울증 막으려면, 중년 때 ‘이것’ 많이 드세요\n",
      "news 링크 = https://n.news.naver.com/mnews/article/346/0000078454\n",
      "news 제목 = 암 환자 두 번 울리는 림프부종, 만성질환처럼 평생 관리해야\n",
      "news 링크 = https://n.news.naver.com/mnews/article/082/0001282727\n",
      "news 제목 = 불시에 찾아오는 '허리 디스크' 통증…빠르게 극복하려면?\n",
      "news 링크 = https://n.news.naver.com/mnews/article/586/0000084244\n",
      "news 제목 = [리빙톡] 짜릿한 수상레포츠…방심하다간 '찌릿'\n",
      "news 링크 = https://n.news.naver.com/mnews/article/001/0014856897\n",
      "news 제목 = \"벤츠 E클래스 제친 모델Y\"…테슬라, 국내 판매 2만대 돌파\n",
      "news 링크 = https://n.news.naver.com/mnews/article/277/0005455379\n",
      "news 제목 = BMW vs 벤츠, 여름 판매량에 희비 갈렸다…왜?\n",
      "news 링크 = https://n.news.naver.com/mnews/article/003/0012711592\n",
      "news 제목 = \"올림픽 보다가 7시간 이하 잤다?\"...오늘 당신의 상태는\n",
      "news 링크 = https://n.news.naver.com/mnews/article/296/0000080569\n",
      "news 제목 = \"XX여행사, 괜찮을까요?\"…티메프 쇼킹에 망설이는 휴가객들\n",
      "news 링크 = https://n.news.naver.com/mnews/article/421/0007712304\n",
      "news 제목 = 인력난 허덕이던 대학병원의 묘수? 꼼수?…사표낸 전공의 ‘일반의’로 뽑는다\n",
      "news 링크 = https://n.news.naver.com/mnews/article/009/0005345882\n",
      "news 제목 = [날씨] 찜통더위 이어져…강원 내륙·남부 강한 소나기\n",
      "news 링크 = https://n.news.naver.com/mnews/article/055/0001178970\n",
      "news 제목 = '월경 전 증후군'보다 독하다는 '월경 전 불쾌 장애'… 어떻게 다를까?\n",
      "news 링크 = https://n.news.naver.com/mnews/article/346/0000078453\n",
      "news 제목 = \"커피가 자장면보다 비싸다니…\" 낙인 찍힌 스타벅스의 항변\n",
      "news 링크 = https://n.news.naver.com/mnews/article/015/0005018479\n",
      "news 제목 = \"몸 때려 암도 낫게한다?\"...백신 불신해 모인 사람들, 기괴한 치유법 봤더니\n",
      "news 링크 = https://n.news.naver.com/mnews/article/296/0000080567\n",
      "news 제목 = [출근길 날씨] 폭염·열대야 계속…곳곳에 강한 소나기\n",
      "news 링크 = https://n.news.naver.com/mnews/article/056/0011775618\n",
      "news 제목 = [단독]기아, 다음 전기차는 세단형 'EV4'…내년 3월 7만대 양산\n",
      "news 링크 = https://n.news.naver.com/mnews/article/030/0003229304\n",
      "news 제목 = 팔다리는 가는데 뱃살만 잔뜩… ‘최악의 비만’ 유형은?\n",
      "news 링크 = https://n.news.naver.com/mnews/article/346/0000078452\n",
      "news 제목 = EV3·PV5…기아가 ‘미래 핵심車’ 들고 유럽으로 가는 이유는\n",
      "news 링크 = https://n.news.naver.com/mnews/article/018/0005805750\n"
     ]
    }
   ],
   "source": [
    "section_dict = {100:'정치',101:'경제',102:'사회',103:'생활/문화',104:'세계',105:'IT/과학'}\n",
    "print_news(103,section_dict[104])"
   ]
  },
  {
   "cell_type": "markdown",
   "id": "323196dc",
   "metadata": {},
   "source": [
    "### 2. Image 다운로드\n",
    "* referer 요청 헤더를 반드시 설정해야 한다."
   ]
  },
  {
   "cell_type": "code",
   "execution_count": 47,
   "id": "c72d6cb1",
   "metadata": {},
   "outputs": [
    {
     "name": "stdout",
     "output_type": "stream",
     "text": [
      "writing to 20220804112251_d97bd1e1b38f0cd022e4e3639d2926b3_IMAG01_1.jpg (299,319 bytes)\n",
      "writing to 20220804112251_d97bd1e1b38f0cd022e4e3639d2926b3_IMAG01_2.jpg (163,333 bytes)\n",
      "writing to 20220804112251_d97bd1e1b38f0cd022e4e3639d2926b3_IMAG01_3.jpg (182,530 bytes)\n"
     ]
    }
   ],
   "source": [
    "import requests\n",
    "import os\n",
    "\n",
    "req_header = {\n",
    "    'referer':'https://comic.naver.com/webtoon/detail?titleId=798173&no=5&amp;weekday=thu'\n",
    "}\n",
    "# jpg filename list\n",
    "img_urls = [\n",
    "    'https://image-comic.pstatic.net/webtoon/798173/5/20220804112251_d97bd1e1b38f0cd022e4e3639d2926b3_IMAG01_1.jpg',\n",
    "    'https://image-comic.pstatic.net/webtoon/798173/5/20220804112251_d97bd1e1b38f0cd022e4e3639d2926b3_IMAG01_2.jpg',\n",
    "    'https://image-comic.pstatic.net/webtoon/798173/5/20220804112251_d97bd1e1b38f0cd022e4e3639d2926b3_IMAG01_3.jpg'\n",
    "]\n",
    "for img_url in img_urls:\n",
    "    #print(img_url)\n",
    "    res = requests.get(img_url, headers=req_header)\n",
    "    #print(res.status_code)\n",
    "    if res.ok:\n",
    "        # binary 데이터 추출\n",
    "        img_data = res.content\n",
    "        # url에서 file name을 가져오기\n",
    "        file_name = os.path.basename(img_url)\n",
    "        with open(file_name,'wb') as file:\n",
    "            print(f'writing to {file_name} ({len(img_data):,} bytes)')\n",
    "            file.write(img_data)\n",
    "    else:\n",
    "        print(f'Error 발생 {res.status_code}') "
   ]
  },
  {
   "cell_type": "markdown",
   "id": "e8b00a04",
   "metadata": {},
   "source": [
    "* 현재 요청된 페이지(특정 회차)의 image 모두 다운로드 해보기"
   ]
  },
  {
   "cell_type": "code",
   "execution_count": 50,
   "id": "b30f7bf5",
   "metadata": {},
   "outputs": [
    {
     "name": "stdout",
     "output_type": "stream",
     "text": [
      "102\n",
      "18\n",
      "1 200\n",
      "writing to img/20240226100634_548bfa8f14799d53d45b5f12df1b289e_IMAG01_1.jpg (128,897 bytes)\n",
      "2 200\n",
      "writing to img/20240226100634_548bfa8f14799d53d45b5f12df1b289e_IMAG01_2.jpg (143,194 bytes)\n",
      "3 200\n",
      "writing to img/20240226100634_548bfa8f14799d53d45b5f12df1b289e_IMAG01_3.jpg (101,900 bytes)\n",
      "4 200\n",
      "writing to img/20240226100634_548bfa8f14799d53d45b5f12df1b289e_IMAG01_4.jpg (112,007 bytes)\n",
      "5 200\n",
      "writing to img/20240226100634_548bfa8f14799d53d45b5f12df1b289e_IMAG01_5.jpg (190,876 bytes)\n",
      "6 200\n",
      "writing to img/20240226100634_548bfa8f14799d53d45b5f12df1b289e_IMAG01_6.jpg (134,590 bytes)\n",
      "7 200\n",
      "writing to img/20240226100634_548bfa8f14799d53d45b5f12df1b289e_IMAG01_7.jpg (132,910 bytes)\n",
      "8 200\n",
      "writing to img/20240226100634_548bfa8f14799d53d45b5f12df1b289e_IMAG01_8.jpg (174,434 bytes)\n",
      "9 200\n",
      "writing to img/20240226100634_548bfa8f14799d53d45b5f12df1b289e_IMAG01_9.jpg (88,576 bytes)\n",
      "10 200\n",
      "writing to img/20240226100634_548bfa8f14799d53d45b5f12df1b289e_IMAG01_10.jpg (177,240 bytes)\n",
      "11 200\n",
      "writing to img/20240226100634_548bfa8f14799d53d45b5f12df1b289e_IMAG01_11.jpg (95,130 bytes)\n",
      "12 200\n",
      "writing to img/20240226100634_548bfa8f14799d53d45b5f12df1b289e_IMAG01_12.jpg (109,718 bytes)\n",
      "13 200\n",
      "writing to img/20240226100634_548bfa8f14799d53d45b5f12df1b289e_IMAG01_13.jpg (144,476 bytes)\n",
      "14 200\n",
      "writing to img/20240226100634_548bfa8f14799d53d45b5f12df1b289e_IMAG01_14.jpg (127,739 bytes)\n",
      "15 200\n",
      "writing to img/20240226100634_548bfa8f14799d53d45b5f12df1b289e_IMAG01_15.jpg (143,133 bytes)\n",
      "16 200\n",
      "writing to img/20240226100634_548bfa8f14799d53d45b5f12df1b289e_IMAG01_16.jpg (159,328 bytes)\n",
      "17 200\n",
      "writing to img/20240226100634_548bfa8f14799d53d45b5f12df1b289e_IMAG01_17.jpg (139,300 bytes)\n",
      "18 200\n",
      "writing to img/20240226100634_548bfa8f14799d53d45b5f12df1b289e_IMAG01_18.jpg (54,967 bytes)\n"
     ]
    }
   ],
   "source": [
    "import requests\n",
    "import os\n",
    "\n",
    "webtoon_url = 'https://comic.naver.com/webtoon/detail?titleId=817945&no=37&week=mon'\n",
    "req_header = {\n",
    "    'referer': webtoon_url\n",
    "}\n",
    "# jpg image 파일명을 먼저 알아내기\n",
    "res = requests.get(webtoon_url)\n",
    "if res.ok: #200\n",
    "    # xx.jpg 파일명 목록 가져오기\n",
    "    soup = BeautifulSoup(res.text, 'html.parser')\n",
    "    print(len(soup.select(\"img[src$='.jpg']\"))) #108\n",
    "    print(len(soup.select(\"img[src*='IMAG01']\"))) #18\n",
    "    img_tag_list = soup.select(\"img[src*='IMAG01']\")\n",
    "\n",
    "    #image 파일명을 저장할 리스트 선언\n",
    "    img_url_list = []\n",
    "    for img_tag in img_tag_list:\n",
    "        #print(img_tag['src'])\n",
    "        #image 태그의 src속성의 값을 추출해서 list에 추가하기\n",
    "        img_url_list.append(img_tag['src'])\n",
    "\n",
    "    image_dir_name = 'img'\n",
    "    #img 디렉토리가 없으면 img 디렉토리 생성하기\n",
    "    if not os.path.isdir(image_dir_name):\n",
    "        os.mkdir(image_dir_name)\n",
    "\n",
    "    for idx,img_url in enumerate(img_url_list,1):\n",
    "        res = requests.get(img_url, headers=req_header)\n",
    "        print(idx, res.status_code)\n",
    "        if res.ok:\n",
    "            # binary 데이터 추출\n",
    "            img_data = res.content\n",
    "            # url에서 file name을 가져오기\n",
    "            file_name = os.path.basename(img_url)\n",
    "            #img/xxxx.jpg\n",
    "            dir_name = os.path.join(image_dir_name,file_name)\n",
    "            with open(dir_name,'wb') as file:\n",
    "                print(f'writing to {dir_name} ({len(img_data):,} bytes)')\n",
    "                file.write(img_data)\n",
    "        else:\n",
    "            print(f'Error 발생 {res.status_code}')\n",
    "else:\n",
    "    print(res.status_code)"
   ]
  },
  {
   "cell_type": "markdown",
   "id": "2ac9f5f9",
   "metadata": {},
   "source": [
    "### 3. 파일 업로드 하기\n",
    "* http://httpbin.org/post 업로드 요청을 할 수 있는 url"
   ]
  },
  {
   "cell_type": "code",
   "execution_count": 63,
   "id": "04da4790",
   "metadata": {},
   "outputs": [
    {
     "name": "stdout",
     "output_type": "stream",
     "text": [
      "200\n"
     ]
    }
   ],
   "source": [
    "import requests\n",
    "\n",
    "upload_dict = {\n",
    "    'img1': open('img/f1.jpg','rb'),\n",
    "    'img2': open('img/f2.jpg','rb')\n",
    "}\n",
    "url = 'http://httpbin.org/post'\n",
    "res = requests.post(url, files=upload_dict)\n",
    "print(res.status_code)\n",
    "#print(res.json()['files']['img1'])"
   ]
  },
  {
   "cell_type": "markdown",
   "id": "7ad65f12",
   "metadata": {},
   "source": [
    "### 4. 단축 URL 생성하는 Open API 사용하기\n",
    "* urllib 사용"
   ]
  },
  {
   "cell_type": "code",
   "execution_count": 83,
   "id": "abbb0ebf",
   "metadata": {},
   "outputs": [
    {
     "name": "stdout",
     "output_type": "stream",
     "text": [
      "{\"result\":{\"url\":\"https://me2.do/FjbrKA2g\",\"hash\":\"FjbrKA2g\",\"orgUrl\":\"https://drive.google.com/drive/folders/1NTJUrAWgazPEUP3ogrlucbn2slhby5M8\"},\"message\":\"ok\",\"code\":\"200\"}\n"
     ]
    }
   ],
   "source": [
    "import os\n",
    "import sys\n",
    "import urllib.request\n",
    "\n",
    "client_id = \"CQhVbnS0rq0Vip4oRO_N\" # 개발자센터에서 발급받은 Client ID 값\n",
    "client_secret = \"RotVzxm4Ja\" # 개발자센터에서 발급받은 Client Secret 값\n",
    "encText = urllib.parse.quote(\"https://drive.google.com/drive/folders/1NTJUrAWgazPEUP3ogrlucbn2slhby5M8\")\n",
    "data = \"url=\" + encText\n",
    "url = \"https://openapi.naver.com/v1/util/shorturl\"\n",
    "\n",
    "request = urllib.request.Request(url)\n",
    "request.add_header(\"X-Naver-Client-Id\",client_id)\n",
    "request.add_header(\"X-Naver-Client-Secret\",client_secret)\n",
    "\n",
    "response = urllib.request.urlopen(request, data=data.encode(\"utf-8\"))\n",
    "rescode = response.getcode()\n",
    "if(rescode==200):\n",
    "    response_body = response.read()\n",
    "    print(response_body.decode('utf-8'))\n",
    "else:\n",
    "    print(\"Error Code:\" + rescode)"
   ]
  },
  {
   "cell_type": "markdown",
   "id": "b7d984a6",
   "metadata": {},
   "source": [
    "* requests를 사용하는 코드로 변경하기\n",
    "* [requests docs](https://requests.readthedocs.io/en/latest/user/quickstart/)"
   ]
  },
  {
   "cell_type": "code",
   "execution_count": 87,
   "id": "727b427b",
   "metadata": {
    "scrolled": true
   },
   "outputs": [
    {
     "name": "stdout",
     "output_type": "stream",
     "text": [
      "{'result': {'url': 'https://me2.do/FjbrKA2g', 'hash': 'FjbrKA2g', 'orgUrl': 'https://drive.google.com/drive/folders/1NTJUrAWgazPEUP3ogrlucbn2slhby5M8'}, 'message': 'ok', 'code': '200'}\n",
      "https://me2.do/FjbrKA2g\n"
     ]
    }
   ],
   "source": [
    "import requests\n",
    "\n",
    "client_id = \"CQhVbnS0rq0Vip4oRO_N\" # 개발자센터에서 발급받은 Client ID 값\n",
    "client_secret = \"RotVzxm4Ja\" # 개발자센터에서 발급받은 Client Secret 값\n",
    "\n",
    "origin_url = \"https://drive.google.com/drive/folders/1NTJUrAWgazPEUP3ogrlucbn2slhby5M8\"\n",
    "\n",
    "req_param = {\n",
    "    'url': origin_url\n",
    "}\n",
    "req_header = {\n",
    "    \"X-Naver-Client-Id\": client_id,\n",
    "    \"X-Naver-Client-Secret\":client_secret\n",
    "}\n",
    "service_url = \"https://openapi.naver.com/v1/util/shorturl\"\n",
    "res = requests.post(service_url, data=req_param, headers=req_header)\n",
    "if res.ok:\n",
    "    print(res.json())\n",
    "    print(res.json()['result']['url'])\n",
    "else:\n",
    "    print(f\"Error Code = {res.status_code}\")    "
   ]
  },
  {
   "cell_type": "markdown",
   "id": "d5e1179a",
   "metadata": {},
   "source": [
    "### 5. 블로그 검색하기"
   ]
  },
  {
   "cell_type": "code",
   "execution_count": 95,
   "id": "877d0c7f",
   "metadata": {},
   "outputs": [
    {
     "name": "stdout",
     "output_type": "stream",
     "text": [
      "100\n",
      "[['<b>파이썬</b>강의 기초 이론과 실무 수업!', '그럼에도 불구하고..', '그래서 언젠가는 <b>파이썬</b>강의를 한 번 들어봐야겠다고 생각을 했었는데 마침 여러 가지로 여건이... Python(<b>파이썬</b>)이란? <b>파이썬</b>이라는 것이 생소하게 느껴지는 분들이 계실 것 같아서 우선 이에 대한 소개부터... ', 'blog.naver.com/dmsdud0395', 'https://blog.naver.com/dmsdud0395/223521719198'], ['베몽테스 콜라멜 마스크팩, 베몽테스쿠션, <b>파이썬</b>가드 진짜... ', '쉬고 싶은 요리사', 'VEMONTES 콜라멜 마스크 <b>파이썬</b>가드 선크림 비비쿠션팩트 몽골 출장은 요 세 녀석으로 버텼다고 할 수... 베몽테스 <b>파이썬</b>가드 선크림 샘플로 썼던 것 중 선크림이 좋아서 문의를 드렸는데 그것이 바로 #베몽테스... ', 'blog.naver.com/madddist', 'https://blog.naver.com/madddist/223501713325'], ['<b>파이썬</b>전문가 자격증 종류 및 시험정보 모음', '미래를 설계하는 재훈님의 블로그', '<b>파이썬</b>전문가 자격증 종류 및 시험정보 모음 1인 1컴퓨터의 시대를 지나 이젠 1인 2컴퓨터의 시대를... 오늘은 보다 전문적인 <b>파이썬</b>전문가 자격에 대해 소개할까 합니다. 자격증 종류 및 시험정보도 모음으로... ', 'blog.naver.com/magicbox35', 'https://blog.naver.com/magicbox35/223532134868'], ['부산<b>파이썬</b>학원, 도전한 후기!', 'JOO', '[부산<b>파이썬</b>학원] 기본 이론부터 실전까지! 문과를 전공했지만, 지난 몇 년 사이에 취업의 문이 극도로... 부산<b>파이썬</b>학원에 다니면서 자격증도 따고, 코딩을 배워서 앞으로 무엇을 할 것인지 어느 정도 가닥도... ', 'blog.naver.com/wldnek03', 'https://blog.naver.com/wldnek03/223479755700'], ['<b>파이썬</b>전문가 자격증 종류 체계적인 취득방법', '콜라보리누나', '<b>파이썬</b>전문가 자격증 종류 체계적인 취득방법 반갑습니다. 이번 시간에 알려드릴 내용은 <b>파이썬</b>전문가 자격증입니다! <b>파이썬</b>에 대해 알고 계시거나 관심 있으신 분들이 들어오셨을 거라 생각합니다. 컴퓨터... ', 'blog.naver.com/colabovlog', 'https://blog.naver.com/colabovlog/223532391042'], ['<b>파이썬</b>전문가 자격증 전문가 과정 학습', 'rudolfio', '<b>파이썬</b>전문가 자격증 전문가 과정 학습 안녕하세요. 오늘은 <b>파이썬</b>전문가 자격증에 대해서 알아보겠습니다. 다들 자바칩이나 <b>파이썬</b> 등 IT 관련 용어는 많이 들어보셨을 거라고 생각해요. 저도 학교에서... ', 'blog.naver.com/rudolph77', 'https://blog.naver.com/rudolph77/223532016252'], ['<b>파이썬</b>으로 주가지수 관심종목을 한 번에 자동으로... ', '재테크하는 썬바라미', '그런데 <b>파이썬</b>을 이용하면 매일 아침 자동으로 내가 원하는 지표의 종가나 환율을 내 개인 메일 또는 업무 메일로 한 눈에 확인할 수 있다. 바로 아래의 예시처럼 말이다. <b>파이썬</b>을 이용해서 관심종목 한 방에... ', 'blog.naver.com/sunflomoney', 'https://blog.naver.com/sunflomoney/223523091515'], ['&lt;부산<b>파이썬</b>학원&gt; 실무 위주 자격증 수업!', 'Twinkle Yebin House', '부산<b>파이썬</b>학원에 등록했습니다. 체계적인 커리큘럼 학원을 고를 때는 커리큘럼 구성이 탄탄하고... 며칠 동안 검색하고 주변에 수소문한 끝에 이러한 조건에 딱 맞는 부산<b>파이썬</b>학원을 찾아냈어요. 그래서... ', 'blog.naver.com/dnjswlgh928', 'https://blog.naver.com/dnjswlgh928/223483720634'], ['부산빅데이터학원 국비지원 강의 <b>파이썬</b> 기초 취업', '네오', '강의 <b>파이썬</b> 기초 취업 이라는 내용으로 찾아왔습니다. 챗 GPT의 등장으로 우리나라 대기업들도 서서히... <b>파이썬</b> 기초 데이터 수집 데이터 분석 데이터 시각화 머신 러닝 딥러닝 등을 순차적으로 학습할 수... ', 'blog.naver.com/neoproud', 'https://blog.naver.com/neoproud/223530365120'], ['[<b>파이썬</b> 프로그래밍 주제] Web Coding (Part. 3)', '주들의 그리 대단하진 않지만 굉장한 이야기', '<b>파이썬</b> 프로그래밍 주제 Web Site Part. 3 소프트웨어 개발하는 과정에서 사용하는 프로그래밍 언어는... 언어, <b>파이썬</b>을 주제 선정하여 작성하겠습니다. (본 포스팅은 이전에 작성하였던 <b>파이썬</b> 장고... ', 'blog.naver.com/urmyver', 'https://blog.naver.com/urmyver/223487016449'], ['<b>파이썬</b> 기반 개발자 입문 브릿지 과정, 웹/앱 개발자 분야', '은평여성인력개발센터', '요즘 <b>파이썬</b>이 뜨는 분야인데 나도 할 수 있을까? 비전공자인 나도 IT 개발분야로 입직/전직이... 직업교육훈련 &quot;<b>파이썬</b> 기반 개발자 입문 브릿지 과정&quot;을 통해 IT 개발자, <b>파이썬</b> 입문, 개발분야... ', 'blog.naver.com/epwomen2', 'https://blog.naver.com/epwomen2/223478004348'], ['<b>파이썬</b> 머신러닝 판다스 데이터분석_개정판(오승환)', '전시회다이어리', '<b>파이썬</b> 머신러닝 판다스 데이터 분석 저자 오승환 출판 정보문화사 발매 2024.06.25. 요즘 LLM인 챗GPT... 그래서 &lt;<b>파이썬</b> 머신러닝 판다스 데이터분석(개정판)&gt;은 <b>파이썬</b>언어로 판다스를 이용해서 데이터분석과... ', 'blog.naver.com/xnosis01', 'https://blog.naver.com/xnosis01/223519594541'], ['<b>파이썬</b> 입문(1) - Jupyter lab과 Colab의 사용법', 'CMaSter', '데이터분석을 입문하는 데는 <b>파이썬</b>이 쉬운 편에 속하며, 그중에서도 대화형 인터페이스인... Jupyter lab과 비슷하게(거의 똑같지만) Jupyter notebook이라는 것도 있으며 모두 <b>파이썬</b>을 설치하거나... ', 'blog.naver.com/cmaster_star', 'https://blog.naver.com/cmaster_star/223525545019'], ['대전<b>파이썬</b>학원 전문적인 과정을 통한 취업 도전기', '쵸람니다', '대전<b>파이썬</b>학원 다니면서 개발자로 취업 성공했어요. 요즘 IT에 관심 있는 분이 많으실 텐데 제 후기 들려드릴 테니 도움받으셨으면 좋겠어요. 제가 다녔던 곳은 DW아카데미학원인데요. <b>파이썬</b>, 자바, 개발 관련... ', 'blog.naver.com/choing857_', 'https://blog.naver.com/choing857_/223445001140'], ['코딩학원 <b>파이썬</b> 수업 내용 공유', 'Lovely couple song♪', '-코딩 언어 교육 : <b>파이썬</b>, 자바, C언어, C++ 등 -웹/앱개발 -AI/빅데이터 -정보보안 전문가 -서버 관리자... AI 분야에 관심이 많아 주로 사용되는 <b>파이썬</b> 과정을 선택했습니다. <b>파이썬</b>은 문법이 쉬워 입문자가... ', 'blog.naver.com/kyluvth', 'https://blog.naver.com/kyluvth/223297519725'], ['<b>파이썬</b>전문가 자격증 종류 및 취득과정', '모티베이터J', '<b>파이썬</b>전문가 자격증 종류 및 취득과정 안녕하세요 여러분! 요즘 여러분은 어떤 일에 푹 빠져 계신가요? 저는 요즘 <b>파이썬</b> 공부에 푹 빠져 있어요. 그래서 오늘은 <b>파이썬</b>전문가 자격증을 취득하게 된... ', 'blog.naver.com/jgrow29', 'https://blog.naver.com/jgrow29/223532577704'], ['블록코딩, <b>파이썬</b> 코딩 교육 완성까지 걸리는 시간에 대해서', '전주코딩컴퓨터 스마트라이프연구학원', \"키워드 &quot;Coding' 전주코딩학원 스마트라이프연구학원 그중에서 많이 하는 질문에 블록코딩, <b>파이썬</b> 코딩... <b>파이썬</b>이나 C언어도 마찬가지구요 그러니 몇주완성 몇달완성이라는 코딩학원의 광고에 현혹되지... \", 'blog.naver.com/smartlifelab_', 'https://blog.naver.com/smartlifelab_/223500771805'], ['[데이터 분석] <b>파이썬</b> Matplotlib의 특징 및 그래프 그리기', '김정곤의 강연노트', 'Matplotlib는 <b>파이썬</b>에서 가장 널리 사용되는 2D 그래프 시각화 라이브러리로, 다양한 형태의 차트와 플롯을 생성할 수 있습니다. Matplotlib은 데이터를 시각적으로 표현하여 데이터 분석 및 이해를... ', 'blog.naver.com/hijunggon', 'https://blog.naver.com/hijunggon/223521953499'], ['[1일] <b>파이썬</b> 학습일지, 코딩자율학습단 9기 - 2장 자료형 변수', '50대 자기계발, 잡학다식', \"매일 새벽마다 포모도로 학습법으로 <b>파이썬</b> 공부에 집중한다. 25분 집중 공부 5분 쉬기. 3. 1회 완독이... <b>파이썬</b>에서는 등호를 '값을 대입한다' 는 의미로 사용해서 대입연산자라고 한다. 변수명은 숫자로... \", 'blog.naver.com/hofmaker', 'https://blog.naver.com/hofmaker/223522305178'], ['<b>파이썬</b>기초 강좌 드라마로 재밌게 코딩배우기', 'La Vie En Rose', '지금은 관련 지식이 1도 남아있지 않기도 하지만 요즘은 <b>파이썬</b>이 대세라지요. 고등학교에서는 <b>파이썬</b> 교재로 코딩수업도 한다더라고요. 아이도 코딩에 관심이 있는 편이라 제가 미리 좀 알아두면 도움이... ', 'blog.naver.com/sunzooland', 'https://blog.naver.com/sunzooland/223455357090'], ['[부산AI학원] 수업에서 <b>파이썬</b>을 배운 과정', 'Twinkle Yebin House', '주로 R이나 <b>파이썬</b>을 사용한다고 하던데, <b>파이썬</b>은 이미 배웠기 때문에 충분히 도전할 수 있겠더라고요. 스스로의 실력이 어느 정도인지 잘 모르겠다면, 면담을 진행하면서 테스트를 받을 수 있습니다. 그렇게... ', 'blog.naver.com/dnjswlgh928', 'https://blog.naver.com/dnjswlgh928/223499132918'], ['KG아이티뱅크 <b>파이썬</b> 자바 C언어 학원 종로 강남', '꾸리', '동네 <b>파이썬</b>학원,자바학원 많은데요 아무래도 인증된 교육기관에서 수강하는게 체계적으로 컴퓨터... 서버 : 리눅스, 윈도우 수업 네트워크 : CCNA, CCNP 라우터 스위치 과정 프로그래밍 : <b>파이썬</b>, C언어, C... ', 'blog.naver.com/byil2547', 'https://blog.naver.com/byil2547/223491715089'], ['<b>파이썬</b> 설치 : VS와 IDLE의 장단점 알아보기', '주들의 그리 대단하진 않지만 굉장한 이야기', '<b>파이썬</b> 설치 VS와 IDLE의 장단점 알아보기 많고 많은 프로그래밍 언어 중 처음 프로그래밍(코딩)에 대해 입문을 하는 사람들이 가장 많이 배운다고 알려져 있는 <b>파이썬</b>은 다른 프로그래밍 언어들에 비해... ', 'blog.naver.com/urmyver', 'https://blog.naver.com/urmyver/223474668799'], ['<b>파이썬</b>기초 인공지능 개발자 국비 강의 학원', '네오', '여러분~ 전 개발자 현 IT 전문 진로 컨설턴트 이 팀장입니다~ 오늘은 <b>파이썬</b>기초 인공지능 개발자 국비... 있는 <b>파이썬</b> 국비 강의 인공지능 국비 강의 형태로 주 온라인 4일 + 오프라인 1일로 이루어져 단 하루... ', 'blog.naver.com/neoproud', 'https://blog.naver.com/neoproud/223490608032'], ['<b>파이썬</b> 자격증 시험 일정 및 준비 정보', 'Cloud_shop ~☆', '<b>파이썬</b> 자격증 시험 일정 및 준비 정보 여러분들은! <b>파이썬</b>에 대해 들어본 적이 있으신가요?! Python은 귀도 반로섬이 개발한 프로그래밍 언어로 문법이 간결하고 쉬우며 초보자도 쉽게 배울 수 있는 가장... ', 'blog.naver.com/notgloom', 'https://blog.naver.com/notgloom/223453971218'], ['<b>파이썬</b>, 개발자만 배우는 언어가 아닙니다! (업무 자동화)', '건강하고 우아하게, 메르맘', '<b>파이썬</b> 개발자는 정말 취업이 잘 된다는 말이 있는데요, 실제로도 많은 기업들에서 개발자를 채용하고... 오늘 소개해 드릴 크라우드웍스 아카데미의 <b>파이썬</b> 강의는 프로그래밍의 기초부터 시작하여... ', 'blog.naver.com/dnjfgid86', 'https://blog.naver.com/dnjfgid86/223479893675'], ['네이버 블로그 공감 클릭 - <b>파이썬</b> 업데이트', 'Sam의 필리핀 Life ~', '카카오톡 <b>파이썬</b> 업데이트 NPL화상영어 이야기 - CCTV, 메신저 사용 NPL화상영어 - 월별보고서 Monthly Report... 26 화상영어 이야기 NPL화상영어 수업알림 카카오톡 예약 발송 (<b>파이썬</b>) 중급 레벨의 화상영어 NPL... ', 'blog.naver.com/saintbell', 'https://blog.naver.com/saintbell/223517645615'], ['<b>파이썬</b> 자격증 시험 정보 및 취득방법 정리!', '험한 세상의 다리가 되어', '오늘 알려드릴 <b>파이썬</b> 자격증 시험 정보 확인하고, 어떻게 하면 수월학 취득하게 취득할 수 있는지 그 과정을 상세하게 알려드리도록 하겠습니다. ^^ 목차 [1] <b>파이썬</b> 자격증 시험이란? [2] <b>파이썬</b>... ', 'blog.naver.com/ying61', 'https://blog.naver.com/ying61/223412643286'], ['<b>파이썬</b> 시계열 예측 분석', '제이펍의 참 똑똑한 2비트 책 이야기', '이 책에서는 <b>파이썬</b> 코드로 완벽하게 작동하는 시계열 예측 방법을 소개한다. 시계열 데이터를... 도서명 <b>파이썬</b> 시계열 예측 분석 부제 통계 모델, 딥러닝, <b>파이썬</b> 라이브러리를 활용한 대규모... ', 'https://jpub.tistory.com/', 'https://jpub.tistory.com/468740'], ['전주 중화산동 코딩학원에서 C언어, <b>파이썬</b>, 자바 교육하고... ', '전주코딩컴퓨터 스마트라이프연구학원', 'C언어 <b>파이썬</b> 자바등 코딩교육을 진행하고 있어요 전주 코딩 학원: C언어, <b>파이썬</b>, 자바 프로그래머 과정 C언어, <b>파이썬</b>, 자바 프로그래머 과정을 기초부터 고급까지 탄탄하게 교육을 하기 위해. 제가 직접 만든... ', 'blog.naver.com/smartlifelab_', 'https://blog.naver.com/smartlifelab_/223476083236'], ['효율적업무를 위한 <b>파이썬</b> 코딩', 'Rugi LAB - BIM/Revit', '커리어 스킬업 <b>파이썬</b> 업무 자동화 저자 손원준 출판 길벗 발매 2024.06.20. ChatGPT가 발단이 되어 Copilot 과... <b>파이썬</b>이라는 언어에 대해 공부한 적이 있긴 했지만 적절한 용처를 찾지못해 안쓰다 보니 지금은 거의... ', 'blog.naver.com/art4life', 'https://blog.naver.com/art4life/223503176626'], ['<b>파이썬</b> Python  코딩자율학습단 9기 입문', '50대 자기계발, 잡학다식', '나는 오늘 아침 유튜브 나도코딩의 <b>파이썬</b> 기본편 6시간 중 2시간 수업을 실내 사이클링을 타며 듣던... 지금 나는 <b>파이썬</b> 입문자에 지나지 않지만 결국 2024년이 가기 전에 중급 개발자의 목표까지 구상해놓은... ', 'blog.naver.com/hofmaker', 'https://blog.naver.com/hofmaker/223521643871'], ['[무료]IT 취준생이 <b>파이썬</b>을 배워야 하는 절대적이유', '동대문여성인력개발센터', 'IT 분야로 취업을 희망하는 여성을 위한 맞춤형 교육 &lt;<b>파이썬</b> 기반 개발자 입문&gt; 과정을 소개합니다. 왜 <b>파이썬</b>을 배워야 할까요? <b>파이썬</b>은 인공지능, 빅데이터, 사무 자동화 등 4차 산업 혁명과 함께 IT... ', 'blog.naver.com/d-2020', 'https://blog.naver.com/d-2020/223534969034'], ['<b>파이썬</b>독학 초보자를 위한 인강 및 책 추천', '호잇의 룰루랄라', '주로 사용하는 프로그래밍 언어에는 C / C# / C++ / <b>파이썬</b> / JAVA / R 등이 있습니다. 저는 이 중에서 초보자분들이 사용하기 좋은 <b>파이썬</b>(Python)을 추천하겠습니다. 난이도가 쉬운 편이라 <b>파이썬</b>독학 하기 편하다고... ', 'blog.naver.com/thebenzecl', 'https://blog.naver.com/thebenzecl/223506450274'], ['<b>파이썬</b> 배우기 파이참으로 개발 환경 만들기', 'KEBI BLOG', '요즘 제가 관심 있는것중에 하나가 바로 <b>파이썬</b>입니다. 예전에 잠깐잠깐 해보기는 했지만 본격적으로 해보기 위해서 처음부터 다시 배워 보고 있는데요. 이번 글에서는 <b>파이썬</b>을 배우기 위해서 필요한... ', 'https://hkebi.tistory.com/', 'https://hkebi.tistory.com/2906'], ['천안여성새로일하기센터, 직업교육훈련 진행(SW.AI) <b>파이썬</b>코... ', '새로운 천안 행복한 시민', 'AI)<b>파이썬</b>코딩 융합 전문인력 양성과정]이 7월 5일부터 진행됩니다. 코딩에 관심있는 천안시 여성이라면 7월 4일까지 신청하셔서 저렴한 가격에 <b>파이썬</b>코딩을 배울 수 있는 이번 기회를 놓치지 마세요! 이번... ', 'blog.naver.com/fastcheonan', 'https://blog.naver.com/fastcheonan/223491696955'], ['코딩교재 코스페이시스 with <b>파이썬</b>', 'small steps every day', '생능북스에서 출간한 코딩교재 코스페이시스 with <b>파이썬</b>인데요. <b>파이썬</b>이라는 언어를 이용해서 코스페이시스를 동작하도록 만드는 프로그램입니다. 코스페이시스(Cospaces)는 사용자들이 가상 현실(VR) 및 증강... ', 'blog.naver.com/onetoppro', 'https://blog.naver.com/onetoppro/223480567642'], ['<b>파이썬</b>기초 드라마로 쉽게 배우는 코딩앱 코딩밸리', '새신부의 일상이 글이 되는 공간, SOLAND', '중에 <b>파이썬</b>기초도 배워볼 겸, 코딩앱 코딩밸리를 알게 됐다. :) 모바일 코딩 교육 어플, 코딩밸리 코딩... 그래서 <b>파이썬</b>기초 공부는 엄두도 못 내고 있었다. 우리나라 코딩 교육 시장은 이렇듯, 약간 각 잡고... ', 'blog.naver.com/winkyster', 'https://blog.naver.com/winkyster/223451759052'], ['[<b>파이썬</b>][주피터노트북] 시작 폴더 변경 방법', '비내리다...', '<b>파이썬</b>을 이용한 코딩을 위해서 아나콘다를 설치하고 주피터 노트북을 설치하면... 로컬 디스크 D드라이브 내에 있는 폴더 이제 깔끔하게 D드라이브에서 <b>파이썬</b> 작업을 시작하려고 합니다.', 'blog.naver.com/eternalhwan', 'https://blog.naver.com/eternalhwan/223480601453'], ['초중고 코딩 교재 코스페이시스 with <b>파이썬</b> 1개월 무료... ', '♡눈이부시게♡', '아들이 친구들이 <b>파이썬</b>으로 간단한 게임을 만들어서 논다고 하더라구요. 그래서 <b>파이썬</b> 책을 하나 구매해서 같이 게임을 만들어 보아야 겠다라고 생각했는데요. 이번에 코스페이시스 with <b>파이썬</b>이라는 책이... ', 'blog.naver.com/honeyskin7', 'https://blog.naver.com/honeyskin7/223482147510'], ['Pandas와 함께하는 데이터 분석 첫걸음, &quot;<b>파이썬</b> 머신러닝... ', '분석가의 기록', '오늘은 <b>파이썬</b> 데이터 분석 입문서를 소개하려고 해요. 최신 Pandas 2.0 버전에 맞춰 개정판으로... <b>파이썬</b> 기본 문법을 알고 있다면 예제 코드를 실행해보면서 자연스럽게 데이터 분석에 익숙해질 수 있어요. 특히... ', 'blog.naver.com/iwillbe_therich', 'https://blog.naver.com/iwillbe_therich/223527704411'], ['[책] 고객 니즈가 보이는 데이터 분석 with <b>파이썬</b>', \"bean's diary\", '살펴보면, <b>파이썬</b>을 처음 배우기 시작한 것이 2018년이라고 한다. 그 전에 5년 정도는 3d max, 언리얼... 그리고 2018년도에 회사에서 데이터분석이 필요해서 <b>파이썬</b>을 배우기 시작했다. 남편 말로는 c언어 배웠던... ', 'blog.naver.com/bean827', 'https://blog.naver.com/bean827/223451608508'], ['코딩은 자신감입니다 코딩교육 블록코딩vs 언어코딩 <b>파이썬</b>... ', '전주코딩컴퓨터 스마트라이프연구학원', '않고 <b>파이썬</b>이나 C언어 같은 언어코딩을 문의해요 우리 아이라면 블록코딩을 넘어가도 충분히 <b>파이썬</b> C언어를 잘할 수 있을 것 같은... 내 아이니깐.... 이라는 생각을 하죠. 그렇지만 많은 학원에서는 블록코딩... ', 'blog.naver.com/smartlifelab_', 'https://blog.naver.com/smartlifelab_/223497650560'], ['<b>파이썬</b> 기초부터 실무까지! 지금 당장 배워야 하는 이유', 'HMC(Happy Money Collector ♡)', '최근에는 초등학생도 학교에서 프로그래밍 교육을 하고 있다고 하니 가장 많은 입문자가 선택하는 <b>파이썬</b> 기초부터 나도 한번 공부해 보기로 했다. 아직 <b>파이썬</b>에 대해 잘 모르는 사람도 있을 수 있으니... ', 'blog.naver.com/wookszzang', 'https://blog.naver.com/wookszzang/223428488559'], ['[6일 2/2 ~ 8일] <b>파이썬</b> 독학, 학습일지 코딩자율학습단 9기... ', '50대 자기계발, 잡학다식', '앞으로 9일 뒤 나도코딩 <b>파이썬</b> 입문을 1회 독학하게 된다. 다음 8월 29일까지 다시 회독한 후 코인자동매매봇 만들기에 도전해보려고 한다. 나도코딩 <b>파이썬</b> 입문편을 독학하면서 하루 하루 공부할 때마다... ', 'blog.naver.com/hofmaker', 'https://blog.naver.com/hofmaker/223531821956'], ['코딩은 모르지만 <b>파이썬</b>으로... 위한 이해할 수 있는 <b>파이썬</b>', '순돌아범', '자바, <b>파이썬</b>, C 언어 등 다양한 언어가 있고 기술 스택이 있지만 비전공자 입장에서는 무엇을 배워야... &quot;비전공자를 위한 이해할 수 있는 <b>파이썬</b>&quot; 에서는 코딩의 코자도 모르는 입문자에게 코딩을 시작하는... ', 'blog.naver.com/pareko', 'https://blog.naver.com/pareko/223492528187'], ['[서울시 무료]<b>파이썬</b> 기반 개발자 입문', '동대문여성인력개발센터', '동대문센터에서 서울시 지원으로 &lt;<b>파이썬</b> 기반 개발자 입문 브릿지 과정&gt;을 개설합니다. <b>파이썬</b>은 다양한 분야에서 활용 가능하고 있는, 현재 가장 인기 있는 프로그래밍 언어 중 하나입니다. 데이터... ', 'blog.naver.com/d-2020', 'https://blog.naver.com/d-2020/223519286576'], ['<b>파이썬</b> 배워본 현실 후기 공유', '화개의 인생 스콜레', '최근에는 초등학교에서도 기본적인 코딩 수업을 한다고 하죠, <b>파이썬</b>은 개발자만 쓰는거 아니야? 라고... 이제는 필수로 알아야 하는 <b>파이썬</b>! 이번 글에서는 강의를 그대로 따라하기만 하면 되는 Python 교육... ', 'blog.naver.com/wl1006', 'https://blog.naver.com/wl1006/223462755366'], ['<b>파이썬</b> 설치부터 실무 활용까지 (+<b>파이썬</b>강의후기)', 'crazy life', '많은 분야의 강의들을 둘러보던 중 <b>파이썬</b>에 대해 관심이 생겼다. Python은 개발자만 배우는 어려운... 싶었는데 <b>파이썬</b>으로 실제 업무에도 활용할 수 있는 유용한 강의를 듣고 그 후기를 공유하려고 한다. 먼저... ', 'blog.naver.com/clean638', 'https://blog.naver.com/clean638/223486024145'], ['<b>파이썬</b> - 아나콘다(Anaconda) 설치 하기', '사소한 시선(視線)', '제공하는 <b>파이썬</b> 배포판의 일종이라고 한다. 이를 이용하면 다양한 패키지와 환경을 손쉽게 관리할 수 있다고 하니 한번 설치해 보기로 하자. ※ 먼저 현제 <b>파이썬</b>이 설치 되어 있다면 프로그램... ', 'blog.naver.com/jcosmoss', 'https://blog.naver.com/jcosmoss/223489198257'], [\"'커리어 스킬업 <b>파이썬</b> 업무 자동화' 빠르게 <b>파이썬</b>을 익히고... \", '더파란비 (theparanbi)의 블로그', \"스킬업 <b>파이썬</b> 업무 자동화'는 코딩 공부도 하면서, 바로 써먹는 방법도 습득할 수 있는 한 권으로 일거양득할 수 있는 매우 유용한 교재라고 할 수 있다. 이 책은 세 개의 파트로 나눠져 있는데, 파트 1 <b>파이썬</b>... \", 'blog.naver.com/theparanbi', 'https://blog.naver.com/theparanbi/223509577261'], ['<b>파이썬</b>과 비교하며 배우는 러스트 프로그래밍', '제이펍의 참 똑똑한 2비트 책 이야기', '<b>파이썬</b> 개발자를 위한 유일무이한 러스트 입문서 이 책은 <b>파이썬</b> 코드와 러스트 코드를 비교하면서 차이점과 유사점을 발견하고, 러스트를 쉽게 이해하도록 도와준다. <b>파이썬</b>을 모르더라도 친절한... ', 'https://jpub.tistory.com/', 'https://jpub.tistory.com/1580'], ['머신러닝 리스크 관리 with <b>파이썬</b> - 올바른 인공지능 활용을... ', '돌스의 맛있고 즐거운 여행', '머신러닝 리스크 관리 with <b>파이썬</b> - 올바른 인공지능 활용을 위한 필독서 - 머신러닝 리스크 관리 with <b>파이썬</b> 저자 패트릭 홀포드,제임스 커티스,파룰 판데이 출판 한빛미디어 발매 2024.05.10. 요즘 우리는... ', 'blog.naver.com/haram4th', 'https://blog.naver.com/haram4th/223486186373'], ['디앤디컴 GAINWARD 지포스 RTX 4060 <b>파이썬</b>II D6 8GB 구매... ', '카툰걸의 영상공략', '그리하여 구매한 제품이 바로 GAINWARD 지포스 RTX 4060 <b>파이썬</b>II D6 8GB이었습니다. GAINWARD 지포스 RTX 4060 <b>파이썬</b>II은 디앤디컴에서 유통하는 제품으로써 무상 3년 A/S가 제공됩니다. 게다가 서비스... ', 'blog.naver.com/frashart', 'https://blog.naver.com/frashart/223478851860'], ['엑셀 x <b>파이썬</b>-데이터 프레임 생성하고 데이터 추출하기', '로사쌤의 컴교실', '♣ 엑셀 x <b>파이썬</b>-데이터 프레임 생성하고 데이터 추출하기 엑셀에서 <b>파이썬</b>을 활용하면 고급필터를 이용하는 것보다 훨씬 더 간단하게 원하는 데이터만 추출할 수 있습니다. 또한 결측치인 빈 값을... ', 'blog.naver.com/happynut', 'https://blog.naver.com/happynut/223534217570'], [\"뱀 '전문가', 자신의 13피트 <b>파이썬</b>에 목졸려 사망,\", '이상조 \"세계를 마당삼아\"', '조사관들에 따르면 그녀는 애완동물 가게에서 일한 경력이 있어 뱀을 다루는 경험이 많다며, 혼자서 <b>파이썬</b>에게 약을 먹이려고 했던 것으로 확인되었다. 자신의 보호자를 죽인 그물무늬비단뱀은... ', 'blog.naver.com/seenewskr', 'https://blog.naver.com/seenewskr/223537078249'], ['2024 전주코딩 <b>파이썬</b> 코딩 여름방학 특강안내', '전주코딩컴퓨터 스마트라이프연구학원', '안녕하세요 코딩교육 전문학원 스마트라이프연구학원이예요 전주 <b>파이썬</b> 특강은 전주중화산동에... 코딩언어 <b>파이썬</b>을 이해하기 위한 교육과정입니다. <b>파이썬</b> 코딩 여름방학 전주특강안내 특강일정은... ', 'blog.naver.com/smartlifelab_', 'https://blog.naver.com/smartlifelab_/223503114290'], ['[2일] <b>파이썬</b> 학습일지, 코딩자율학습단 9기 - 3장 연산자', '50대 자기계발, 잡학다식', '그러나 지금 <b>파이썬</b> 언어 외에도 피그마, RAG, Langchain, 주식자동매매봇, 인간공학기술사 공부등 별려 놓은 것이 많다. 총 6개 학습 중에 공통점이 있다. <b>파이썬</b>! 이 <b>파이썬</b>이 지금 내 인생에서 가장... ', 'blog.naver.com/hofmaker', 'https://blog.naver.com/hofmaker/223523476015'], ['YBM cos pro <b>파이썬</b> 2급 4차 기출문제', '수담', '기출문제는 ybm cos pro <b>파이썬</b> 2급 다운로드하셔도 되고, 구름 에듀에서 바로 보면서 연습하실수... 합격자 수 구하기 -solution 함수 작성하기- ybm cos pro <b>파이썬</b> 2급 4차 문제의 완성코드를... ', 'blog.naver.com/thudam', 'https://blog.naver.com/thudam/223505406643'], ['<b>파이썬</b>으로 비전공자도 업무능력을 올리고 싶다면?', '영어가 조은걸', '털어놓았더니 <b>파이썬</b>을 배워보라는 추천을 받았다. 개발자도 아니고 관련 지식도 없으면서 전공도... 아마 <b>파이썬</b>에 대해 아는 사람도, 모르는 사람도 있을 것이다. 복잡한 기계어 대신 사람이 쉽게 명령을... ', 'blog.naver.com/ceg82', 'https://blog.naver.com/ceg82/223462925482'], ['<b>파이썬</b> 독학 - 나도코딩 입문 vs 코드잇 중에 누가 더 쉬울까?', '50대 자기계발, 잡학다식', '나는 <b>파이썬</b> 독학으로 책과 영상으로 번갈아 공부한다. 어떤 책이나 영상이 훨씬 쉽고 체계적인가?는 중요하지 않다. 나는 <b>파이썬</b>을 반드시 내 능력 범주안에 장착해야 한다. 이 프로그래밍 언어로 2024년 안에... ', 'blog.naver.com/hofmaker', 'https://blog.naver.com/hofmaker/223529501689'], ['[6일] <b>파이썬</b> 독학, 코딩자율학습단 9기 - 6장. 제어문 : 조건에... ', '50대 자기계발, 잡학다식', '이번 6장 조건문을 학습하기 위해 <b>파이썬</b>의 구조적 코딩 방법을 익힌 것 같다. 상당히 빨리 학습이 끝났다. 나도코딩 <b>파이썬</b> 입문책의 설명이 쉽게 되어 있기 때문일 것이다. if 문을 쓰게 되면서 <b>파이썬</b>에... ', 'blog.naver.com/hofmaker', 'https://blog.naver.com/hofmaker/223527848345'], ['업무 자동화  - Python <b>파이썬</b> 프로그래밍 공부 시작.', '50대 자기계발, 잡학다식', '업무 자동화를 공부하기 위해 GPT, <b>파이썬</b> 프로그래밍을 공부한다. 1년 이상 자격증 공부를 해보니 대상이 산업위생관리에서 <b>파이썬</b> 프로그래밍 언어로 바뀐 것 뿐 공부하는 방법은 같다. <b>파이썬</b> 프로그래밍... ', 'blog.naver.com/hofmaker', 'https://blog.naver.com/hofmaker/223517360834'], ['<b>파이썬</b> 책 추천, 보다 똑똑한 <b>파이썬</b> 코딩 노하우를 잔뜩 담은... ', '더파란비 (theparanbi)의 블로그', \"C#은 C#답게, <b>파이썬</b>은 <b>파이썬</b>답게 코딩할 줄 알아야 한다. '답게'라는 표현이 너무 추상적일 수 있다. 다른 단어로 말하면 '제대로'라 말할 수도 있을 거 같다. '<b>파이썬</b> 코딩의 기술 51'은 <b>파이썬</b> 답게, <b>파이썬</b>을... \", 'blog.naver.com/theparanbi', 'https://blog.naver.com/theparanbi/223529809237'], ['<b>파이썬</b> 아나콘다 다운로드 설치 idle 사용하기', '진실여포 노트북', '아나콘다(Anaconda)는 <b>파이썬</b>과 R 프로그래밍 언어의 오픈 소스 배포판으로 수학, 과학 분야에... <b>파이썬</b> 실행 python 간단한 코드 작성은 Anaconda Prompt 앱을 실행하면 된다. 프롬프트 창이 뜨면 &quot;python... ', 'blog.naver.com/jazzlubu', 'https://blog.naver.com/jazzlubu/223534295023'], ['코딩밸리로 <b>파이썬</b>독학 하기', '여행하기 좋은 날', '코딩밸리 어떤 어플인지 소개해 드릴게요.^^ 코딩밸리로 <b>파이썬</b>독학 하기 구글 플레이스토어에서... 저는 이번기회에 <b>파이썬</b>을 조금 더 공부하고 싶어 카카오 출신 개발자이신 조희주 강사님의 코딩 강의를 듣고... ', 'blog.naver.com/ki77080', 'https://blog.naver.com/ki77080/223454236220'], ['<b>파이썬</b> 개발자를 위한 핵심 Python 코딩 역량 강화 <b>파이썬</b>... ', 'small steps every day', '오늘은 간단하고 깔끔하게, 명확하고 효율적으로 <b>파이썬</b>을 사용하라는 <b>파이썬</b> 개발자를 위한 핵심 Python 코딩 역량 강화 <b>파이썬</b> 코딩의 기술 51 <b>파이썬</b> 책을 정리해 봤습니다. (Better Python Code) <b>파이썬</b>... ', 'blog.naver.com/onetoppro', 'https://blog.naver.com/onetoppro/223527404075'], ['30분 만에 3D 게임을 만드는 코스페이시스 with <b>파이썬</b>(1개월... ', '오감 과 체험, 모르면 학습을 통해 얻은 것들 집합~!!', '30분 만에 3D 게임을 만드는 코스페이시스 with <b>파이썬</b>(1개월 무료 체험판 코드가 제공) 최근들어서 아이들이 게임을 만드는 것에 관심을 보이기 시작했다. 학교에서도 <b>파이썬</b>을 이용해서 하는 것도 있어서... ', 'blog.naver.com/kjs7579', 'https://blog.naver.com/kjs7579/223478430980'], ['<b>파이썬</b>강의 하나로 초보자도 실무능력 키운 방법', '스마트동스쿨 공식블로그', '오늘은 초보자분들도 기초부터 탄탄하게 다지면서 실무능력을 기를 수 있게 탄탄한 학습 효율을 제공하는 <b>파이썬</b>강의 추천 들고 왔습니다ㅎㅎ 그리고 <b>파이썬</b>을 공부해야 하는 이유도 간단히 알아보려 해요... ', 'blog.naver.com/skyktc', 'https://blog.naver.com/skyktc/223494036466'], ['<b>파이썬</b> 기초 독학할 수 있는 무료 STEP 플랫폼', '투잡남의 IT리뷰', '<b>파이썬</b>이 개발되고 난 뒤 가장 각광받는 언어로 떠오르고 있습니다. 인공지능에도 쓰이고, 다양한... 따라서 <b>파이썬</b> 기초 독학을 할 수 있는 STEP 한국기술교육대학교 온라인평생교육원을 여러분에게 소개해... ', 'blog.naver.com/twojobnam', 'https://blog.naver.com/twojobnam/223515842506'], ['대구<b>파이썬</b>학원 미래 경제활동인구 전망', '하루 하나 코딩 하나 책 하나', '안녕하세요~ 대구<b>파이썬</b>학원 소놀에서 배우는 <b>파이썬</b>은 데이터분석에 많이 사용됩니다. 대구<b>파이썬</b>학원 소놀에서 배우는 <b>파이썬</b>이 데이터분석에 많이 사용되는 이유는 배우기 쉽고 직관적이며, 대량의... ', 'blog.naver.com/hma778', 'https://blog.naver.com/hma778/223487647174'], ['<b>파이썬</b> 독학 비전공자를 위한 이해할 수 있는 책 추천', '워니정보통', '비전공자를 위한 이해할 수 있는 <b>파이썬</b> 저자 최원영 출판 티더블유아이지 발매 2024.06.24. <b>파이썬</b>(Python)은 오늘날 가장 인기 있는 개발 프로그램 언어 중 하나로 자리 잡았습니다. <b>파이썬</b>이 이토록 인기를 끌게... ', 'blog.naver.com/ahw0703', 'https://blog.naver.com/ahw0703/223485987001'], ['[19기] <b>파이썬</b> 자동화 후기 및 &quot;커리어 스킬업 <b>파이썬</b> 업무... ', '카이사르의 블로그', '커리어 스킬업 <b>파이썬</b> 업무 자동화 저자 손원준 출판 길벗 발매 2024.06.20. SNS에서 &quot;커리어 스킬업 <b>파이썬</b> 업무 자동화&quot; 책을 알게 되었고, &quot;쓸모 있는 독서 실행 챌린지 북킷 Bookit&quot; 네이버 카페에... ', 'blog.naver.com/ybhsos', 'https://blog.naver.com/ybhsos/223531145640'], ['YBM cos pro <b>파이썬</b> 2급 1차 기출문제', '수담', '기출문제는 ybm cos pro <b>파이썬</b> 2급 다운로드하셔도 되고, 구름 에듀에서 바로 보면서 연습하실수... 평균이하 갯수구하기 -세줄 수정문제- ybm cos pro <b>파이썬</b> 2급 1차 기출문제의 완성코드를... ', 'blog.naver.com/thudam', 'https://blog.naver.com/thudam/223505553108'], ['Python(<b>파이썬</b>)에서 HALCON 코드 실행하기', '일상의 기록소', 'Python(<b>파이썬</b>)에서 HALCON 코드 실행하기 안녕하세요, 주니스입니다. 이번에는 영상분석 라이브러리인 HALCON을 Python(<b>파이썬</b>) 기반에서 사용하는 방법을 다루어 볼게요. Python으로... ', 'blog.naver.com/gonman2k', 'https://blog.naver.com/gonman2k/223495723326'], ['[book] <b>파이썬</b>으로 배우는 게임 개발 입문편', 'Born to be loved', '<b>파이썬</b> pygame 으로 만드는 게임에 대한 내용을 알아보다가 이 책을 구매하게 되었다. 파이게임에 대한... 있음 ^^ * <b>파이썬</b> 설치부터 해서 완전히 기초 문법부터 따라해볼 수 있도록 잘 소개되어 있어서... ', 'blog.naver.com/coding_teacher', 'https://blog.naver.com/coding_teacher/223460827909'], ['<b>파이썬</b> 독학 책 &quot;커리어 스킬업 <b>파이썬</b> 업무 자동화&quot; 혼자... ', '젬므의 졔라운지', '커리어 스킬업 <b>파이썬</b> 업무 자동화 저자 손원준 출판 길벗 발매 2024.06.20. 다니던 직장을 그만두고... 있어서 <b>파이썬</b>에 대해 살짝 물어봤더니 깊게 들어갈 거 아니면 <b>파이썬</b> 관련 책을 보며 한번 만져보라고... ', 'blog.naver.com/ferang', 'https://blog.naver.com/ferang/223503793669'], ['<b>파이썬</b>(PYTHON) 아나콘다 r프로그래밍 설치 방법', '세수하면이병헌 IT/자동차', '이로 인해 <b>파이썬</b>(PYTHON)과 R 같은 프로그래밍 언어들이 각광받고 있다. 아나콘다는 두 언어를 쉽게 설치하고 관리할 수 있는 통합 개발 환경이다. 간단한 설치만으로 r프로그래밍이나 <b>파이썬</b>프로그래밍이... ', 'blog.naver.com/supapa13', 'https://blog.naver.com/supapa13/223475274054'], ['<b>파이썬</b> YBM cos pro 2급 6차 기출문제', '수담', '기출문제는 ybm cos pro <b>파이썬</b> 2급 다운로드하셔도 되고, 구름 에듀에서 바로 보면서 연습하실수... 사과박스 무게 불량검사 -solution함수 작성문제- ybm cos pro <b>파이썬</b> 2급 6차 문제의 완성코드를... ', 'blog.naver.com/thudam', 'https://blog.naver.com/thudam/223505252692'], ['YBM cos pro <b>파이썬</b> 2급 3차 기출문제', '수담', '기출문제는 ybm cos pro <b>파이썬</b> 2급 다운로드하셔도 되고, 구름 에듀에서 바로 보면서 연습하실수... 자신을 2로나눈 값의 개수 -한줄수정문제- ybm cos pro <b>파이썬</b> 2급 3차 문제의 완성코드를... ', 'blog.naver.com/thudam', 'https://blog.naver.com/thudam/223505457958'], ['책 <b>파이썬</b> 독학 엑셀 자동화 커리어 스킬업 웹크롤링', 'LIKE a D!AMOND', '책 <b>파이썬</b> 업무 자동화 커리어 스킬업 일잘러 안녕하세요 오픈런치입니다. 요즘 시대 AI, 인공지능과 자동화를 이용한 업무가 유행, 보편화 되고 있는데요. <b>파이썬</b> 기초와 <b>파이썬</b>을 이용한 업무를 자동화... ', 'blog.naver.com/kormaruu', 'https://blog.naver.com/kormaruu/223503767736'], ['고교생들이 <b>파이썬</b>을 배우는 게 좋을까?[미국대학 입시]', '미래교육연구소 공식블로그', '고교생들이 <b>파이썬</b>을 배우는 게 좋을까? <b>파이썬</b>(Python)은 고등학교 학생들에게 매우 유용한 프로그래밍 언어다. 다음은 학생들이 <b>파이썬</b>을 배워야 하는 이유와 그 중요성에 대해 설명했다. <b>파이썬</b>의 장점... ', 'blog.naver.com/josephlee54', 'https://blog.naver.com/josephlee54/223527863492'], ['<b>파이썬</b> 프로젝트 가상환경 Poetry(포어트리)', '내 성격 100% 활용하기', '새로운 <b>파이썬</b> 프로젝트의 샌드박스 환경을 만들거나 기존 프로젝트에 가상환경을 만들어 주거나, 프로젝트의 의존성 관리 및 라이브러리의 패키징을 위해 가상환경을 생성하는데, <b>파이썬</b>에... ', 'blog.naver.com/drvoss', 'https://blog.naver.com/drvoss/223523052028'], ['<b>파이썬</b> 개발자인데 러스트 배우고 싶어요', '제이펍의 참 똑똑한 2비트 책 이야기', '<b>파이썬</b> 개발자의 원영적 사고.jpg 러스트를 찍먹해볼까 말까 고민하셨던 전국의 <b>파이썬</b> 개발자 여러분, 드디어 이 책이 출간되었습니다. <b>파이썬</b> 개발자를 위한 유일무이한 러스트 입문서, <b>파이썬</b> 코드와 러스트... ', 'https://jpub.tistory.com/', 'https://jpub.tistory.com/1576'], ['점프 투 <b>파이썬</b>_2장_02', '미래를 만드는 기술', '본 블로그 내용의 출처: 점프 투 <b>파이썬</b> 도서에서 발췌하여 작성하였습니다. * 포맷... 포매팅 <b>파이썬</b> 3.6버전부터 사용할 수 있다. 출처: funfun_VScode * 정렬 다른 포매팅과 비슷하다.... ', 'blog.naver.com/yukitowa', 'https://blog.naver.com/yukitowa/223516913796'], ['엑셀이 <b>파이썬</b>을 품었다, &lt;엑셀X<b>파이썬</b>&gt;', '길벗 IT', '더 강력한 기능으로 돌아온 엑셀, MS 365 엑셀의 신기능을 체험해 보세요 엑셀X<b>파이썬</b> MS 365 엑셀에 <b>파이썬</b>을 통합하는 강력한 기능이 업데이트되었다. 이제 엑셀의 셀에 ‘=PY’ 함수를 입력하면 <b>파이썬</b>... ', 'blog.naver.com/gilbutzigy', 'https://blog.naver.com/gilbutzigy/223522695736'], ['<b>파이썬</b> 설치 가이드(아나콘다 / python 3.11 버전)', '데이터공방', '&lt;I Agree&gt; 클릭 &lt;All Users (requires admin privileges) &gt; 클릭 &lt;Register Anaconda3 as the system Python 3.11 &gt; 선택!! #<b>파이썬</b>설치 #아나콘다 #python3.11 #최신 #설치가이드 #데이터공', 'blog.naver.com/kiddwannabe', 'https://blog.naver.com/kiddwannabe/223475279980'], ['[9일]<b>파이썬</b> 독학, 코딩자율학습단 9기, 제 8장 입출력 (1/2)', '50대 자기계발, 잡학다식', '9일차 <b>파이썬</b> 프로그래밍 언어를 공부 중이다. 공부는 끈기를 가지고 엉덩이 붙이고 학습이 끝날... 2024년 하반기 나의 공부 목표를 <b>파이썬</b>으로 세우고 자동매매봇을 개발하기 위해 공부 중이다. 이 모든... ', 'blog.naver.com/hofmaker', 'https://blog.naver.com/hofmaker/223532711244'], ['YBM cos pro <b>파이썬</b> 2급 5차 기출문제', '수담', '기출문제는 ybm cos pro <b>파이썬</b> 2급 다운로드하셔도 되고, 구름 에듀에서 바로 보면서 연습하실수... pro <b>파이썬</b> 2급 5차 문제의 완성코드를 올려드렸습니다. 구름 에듀에서 초기화하면서 여러번... ', 'blog.naver.com/thudam', 'https://blog.naver.com/thudam/223505300447'], ['YBM cos pro <b>파이썬</b> 2급_2차 기출문제', '수담', '기출문제는 ybm cos pro <b>파이썬</b> 2급 다운로드하셔도 되고, 구름 에듀에서 바로 보면서... 상품권 지급액 구하기 -한 줄 수정하는 문제- ybm cos pro <b>파이썬</b> 2급 2차 기출문제의 완성코드를... ', 'blog.naver.com/thudam', 'https://blog.naver.com/thudam/223505493969'], ['점프 투 <b>파이썬</b>_2장_01', '미래를 만드는 기술', \"본 블로그 내용의 출처: 점프 투 <b>파이썬</b> 도서에서 발췌하여 작성하였습니다. 2장 자료형 *정수형... *문자열 인덱싱과 슬라이싱 -&gt; <b>파이썬</b>은 0부터 숫자를 센다! *인덱싱 : 무엇인가를 '가리킨다... \", 'blog.naver.com/yukitowa', 'https://blog.naver.com/yukitowa/223506386469'], ['Python(<b>파이썬</b>)으로 만들어진 스틸러(Stealer)-ud123.... ', '꿈을꾸는 파랑새', '오늘은 Python(<b>파이썬</b>)으로 만들어진 스틸러(Stealer)인 ud123.bat에 대해 글을 적어 보겠습니다. <b>파이썬</b>은 1991년에 귀도 반 로섬(Guido van Rossum)에 의해 만들어진... ', 'https://wezard4u.tistory.com/', 'https://wezard4u.tistory.com/429235'], ['<b>파이썬</b> 정복 프로젝트!!', '사랑나무쌤', '<b>파이썬</b>은 2001년 컴퓨터과학과에 입학한 대학생으로 봄학기를 끝내고 학교 구경한다고 프레지오를... 지금은 <b>파이썬</b>가죽가방도 잘만 들고 다닌다. ^^ 그런 <b>파이썬</b>을 경기대, 선문대, 우송대에서 강의 하느라... ', 'blog.naver.com/aebon', 'https://blog.naver.com/aebon/223480286814'], ['(문화예술내일)업무자동화-<b>파이썬</b>, 아나콘다 등 설치', '돌이끼의 작은함성', '<b>파이썬</b>, 아나콘다, 주피터 노트북, Y파이낸스, 그리고 주식투자를 자동화하는 프로그램은 챗 GPT를 통해 콴티테이티브 트래이딩 모델 생성 등... 어렵다. 어쨌든 이 모든 프로그램들은 챗GPT로 연계되어... ', 'blog.naver.com/dino999', 'https://blog.naver.com/dino999/223531325555'], ['오랜만에  <b>파이썬</b> 데이터분석 강의 @러닝스푼즈', '데이터공방', '강남 <b>파이썬</b>을 활용한 데이터분석 강의를 진행예정입니다. 정말 오랜만에 강의를 진행하게... <b>파이썬</b> 기초에서부터 데이터 수집/분석/시각화 까지 다양하게 활용 가능하도록 꼭 필요한 기초 부분을... ', 'blog.naver.com/kiddwannabe', 'https://blog.naver.com/kiddwannabe/223477134119'], ['데이터분석 고객니즈가보이는 <b>파이썬</b>크롤링', '워니정보통', 'with <b>파이썬</b> 저자 정인근 출판 길벗 발매 2024.04.22. 데이터 분석에 대한 관심이 높아지는 가운데, 실무 중심의 학습 자료를 찾는 이들을 위한 책인 &quot;고객 니즈가 보이는 데이터 분석 with <b>파이썬</b>&quot;이 실무에서 업무를... ', 'blog.naver.com/ahw0703', 'https://blog.naver.com/ahw0703/223437141396'], ['<b>파이썬</b> 네트워크 프로그래밍 모듈 - ipaddress 모듈', '석사한 백수의 공부 블로그', '출처 : 사물인터넷을 위한 <b>파이썬</b> 네트워크 프로그래밍 <b>파이썬</b> 네트워크 기본 모듈 이번 시간에는 IP 주소를 <b>파이썬</b> 프로그램으로 처리하는 방법을 알아본다. 인터넷에서는 호스트를... ', 'https://zangwoo.tistory.com/', 'https://zangwoo.tistory.com/356'], ['그누보드6 with <b>파이썬</b>(python) 설치 후기', '네 다리 소반위에 죽 한그릇', '몇 개월전 그누보드 다음 버전은 <b>파이썬</b>이 될 거라는 소문이 있었지만 실제 나올지 몰랐습니다.... 집 노트북은 리눅스고 <b>파이썬</b>(3.8 이상 버전)이 이미 설치되어 있어 별 무리 없이 진행했습니다. 그리고... ', 'https://qhrtm.tistory.com/', 'https://qhrtm.tistory.com/212'], ['<b>파이썬</b> 가상환경 만들기 (venv)', 'B급 코드 리뷰', '<b>파이썬</b> 가상환경을 만들어 보자. 개발을 하다보면 라이브러리 버전이 맞지않아 원하는... cmd창 또는 Vscode powershell에서 <b>파이썬</b> 가상환경 명령어 실행 python -m venv myvenv 3. 가상환경... ', 'https://iamgus.tistory.com/', 'https://iamgus.tistory.com/674'], ['<b>파이썬</b>( Python ) 설치해보기', '삽질창고', '우선 <b>파이썬</b> 홈페이지 접속하기 Download Python | Python.org 그냥 다운로드 <b>파이썬</b> 주소에서 다운받아서 설치하면 된다.. 난 …윈도우니까?! 그리고...구형 노트북이라 지원 안될 것 같지만 혹시... ', 'https://fallingstar.tistory.com/', 'https://fallingstar.tistory.com/218']]\n"
     ]
    }
   ],
   "source": [
    "import requests\n",
    "import pprint\n",
    "\n",
    "headers = {\n",
    "    'X-Naver-Client-Id': 'CQhVbnS0rq0Vip4oRO_N',\n",
    "    'X-Naver-Client-Secret': 'RotVzxm4Ja',\n",
    "}\n",
    "\n",
    "payload = {\n",
    "    'query': '파이썬',\n",
    "    'display': 100,\n",
    "    'sort': 'sim'\n",
    "}\n",
    "\n",
    "url = 'https://openapi.naver.com/v1/search/blog.json'\n",
    "\n",
    "res = requests.get(url, params=payload, headers=headers)\n",
    "items_data = res.json()['items']\n",
    "# [{'title':'aa','link':'http://'},{},{}]\n",
    "print(len(items_data))\n",
    "#print(items_data)\n",
    "\n",
    "items_list = list()\n",
    "item_list = []\n",
    "# items_data [] , item {}\n",
    "for item in items_data:\n",
    "#     print(item)\n",
    "    item_list.append(item['title'])\n",
    "    item_list.append(item['bloggername'])\n",
    "    item_list.append(item['description'])\n",
    "    item_list.append(item['bloggerlink'])\n",
    "    item_list.append(item['link'])\n",
    "\n",
    "    items_list.append(item_list)\n",
    "    item_list = []\n",
    "\n",
    "print(items_list) #[['파이썬','http://']]\n",
    "\n",
    "with open('data/nhnblog.txt','w',encoding=\"utf-8\")as file:\n",
    "    for items in items_list:\n",
    "        for item in items:\n",
    "            item = item + '\\n'\n",
    "            file.write(item)\n",
    "        file.write('-'*150+'\\n')"
   ]
  },
  {
   "cell_type": "code",
   "execution_count": null,
   "id": "255e5571-c548-4e81-abb7-eec760c09eae",
   "metadata": {},
   "outputs": [],
   "source": []
  }
 ],
 "metadata": {
  "kernelspec": {
   "display_name": "Python 3 (ipykernel)",
   "language": "python",
   "name": "python3"
  },
  "language_info": {
   "codemirror_mode": {
    "name": "ipython",
    "version": 3
   },
   "file_extension": ".py",
   "mimetype": "text/x-python",
   "name": "python",
   "nbconvert_exporter": "python",
   "pygments_lexer": "ipython3",
   "version": "3.12.4"
  }
 },
 "nbformat": 4,
 "nbformat_minor": 5
}
